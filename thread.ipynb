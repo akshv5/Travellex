{
 "cells": [
  {
   "cell_type": "code",
   "execution_count": null,
   "id": "b2df9a60",
   "metadata": {},
   "outputs": [],
   "source": [
    "import threading\n",
    "import time\n",
    "\n",
    "\n",
    "def flightsData():\n",
    "    #Code to scrap data of flieghts from a website\n",
    "    print(\"Flight data scrapped\")\n",
    "\n",
    "\n",
    "\n",
    "\n",
    "def hotelsData():\n",
    "    #Code to scrap data of hotels from a website\n",
    "    print(\"Hotel data scrapped\")\n",
    "\n",
    "\n",
    "def trainsData():\n",
    "    #Code to scrap data of trains from a website\n",
    "    print(\"Train data scrapped\")\n",
    "\n",
    "def packagesData():\n",
    "    #Code to scrap data of packages from a website\n",
    "    print(\"Showing the combinedd and filtered data in a single page\")\n",
    "\n",
    "t1 = threading.Thread(target=flightsData)\n",
    "t2 = threading.Thread(target=hotelsData)\n",
    "t3 = threading.Thread(target=trainsData)\n",
    "\n",
    "t1.start()\n",
    "t2.start()      \n",
    "t3.start()\n",
    "\n",
    "\n",
    "t1.join()       \n",
    "t2.join()\n",
    "t3.join()\n",
    "print(\"All data scrapped\")\n",
    "\n"
   ]
  }
 ],
 "metadata": {
  "language_info": {
   "name": "python"
  }
 },
 "nbformat": 4,
 "nbformat_minor": 5
}
